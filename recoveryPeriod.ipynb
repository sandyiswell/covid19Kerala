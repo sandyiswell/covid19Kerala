{
 "cells": [
  {
   "cell_type": "markdown",
   "metadata": {},
   "source": [
    "This notebook finds the average recovery period of Covid-19 disease in Kerala."
   ]
  },
  {
   "cell_type": "code",
   "execution_count": 150,
   "metadata": {},
   "outputs": [],
   "source": [
    "import pandas as pd\n",
    "import matplotlib.pyplot as plt"
   ]
  },
  {
   "cell_type": "code",
   "execution_count": 151,
   "metadata": {},
   "outputs": [
    {
     "data": {
      "text/html": [
       "<div>\n",
       "<style scoped>\n",
       "    .dataframe tbody tr th:only-of-type {\n",
       "        vertical-align: middle;\n",
       "    }\n",
       "\n",
       "    .dataframe tbody tr th {\n",
       "        vertical-align: top;\n",
       "    }\n",
       "\n",
       "    .dataframe thead th {\n",
       "        text-align: right;\n",
       "    }\n",
       "</style>\n",
       "<table border=\"1\" class=\"dataframe\">\n",
       "  <thead>\n",
       "    <tr style=\"text-align: right;\">\n",
       "      <th></th>\n",
       "      <th>Date</th>\n",
       "      <th>District</th>\n",
       "      <th>PersonType</th>\n",
       "      <th>NumberOfPatients</th>\n",
       "      <th>PresentStatus</th>\n",
       "      <th>Remarks</th>\n",
       "      <th>DischargedDate</th>\n",
       "    </tr>\n",
       "  </thead>\n",
       "  <tbody>\n",
       "    <tr>\n",
       "      <th>0</th>\n",
       "      <td>09/03/20</td>\n",
       "      <td>Thrissur</td>\n",
       "      <td>native</td>\n",
       "      <td>1</td>\n",
       "      <td>negative</td>\n",
       "      <td>discharged</td>\n",
       "      <td>17/03/20</td>\n",
       "    </tr>\n",
       "    <tr>\n",
       "      <th>1</th>\n",
       "      <td>09/03/20</td>\n",
       "      <td>Alappuzha</td>\n",
       "      <td>native</td>\n",
       "      <td>1</td>\n",
       "      <td>negative</td>\n",
       "      <td>discharged</td>\n",
       "      <td>17/03/20</td>\n",
       "    </tr>\n",
       "    <tr>\n",
       "      <th>2</th>\n",
       "      <td>09/03/20</td>\n",
       "      <td>Kasargod</td>\n",
       "      <td>native</td>\n",
       "      <td>1</td>\n",
       "      <td>negative</td>\n",
       "      <td>discharged</td>\n",
       "      <td>17/04/20</td>\n",
       "    </tr>\n",
       "    <tr>\n",
       "      <th>3</th>\n",
       "      <td>09/03/20</td>\n",
       "      <td>Pathanamthitta</td>\n",
       "      <td>native</td>\n",
       "      <td>5</td>\n",
       "      <td>negative</td>\n",
       "      <td>discharged</td>\n",
       "      <td>01/04/20</td>\n",
       "    </tr>\n",
       "    <tr>\n",
       "      <th>4</th>\n",
       "      <td>09/03/20</td>\n",
       "      <td>Ernakulam</td>\n",
       "      <td>native</td>\n",
       "      <td>1</td>\n",
       "      <td>negative</td>\n",
       "      <td>discharged</td>\n",
       "      <td>27/03/20</td>\n",
       "    </tr>\n",
       "  </tbody>\n",
       "</table>\n",
       "</div>"
      ],
      "text/plain": [
       "       Date        District PersonType  NumberOfPatients PresentStatus  \\\n",
       "0  09/03/20        Thrissur     native                 1      negative   \n",
       "1  09/03/20      Alappuzha      native                 1      negative   \n",
       "2  09/03/20        Kasargod     native                 1      negative   \n",
       "3  09/03/20  Pathanamthitta     native                 5      negative   \n",
       "4  09/03/20       Ernakulam     native                 1      negative   \n",
       "\n",
       "      Remarks DischargedDate  \n",
       "0  discharged       17/03/20  \n",
       "1  discharged       17/03/20  \n",
       "2  discharged       17/04/20  \n",
       "3  discharged       01/04/20  \n",
       "4  discharged       27/03/20  "
      ]
     },
     "execution_count": 151,
     "metadata": {},
     "output_type": "execute_result"
    }
   ],
   "source": [
    "dta = pd.read_csv('chronoPositiv.csv')\n",
    "dta.head(5)"
   ]
  },
  {
   "cell_type": "code",
   "execution_count": 152,
   "metadata": {},
   "outputs": [
    {
     "name": "stdout",
     "output_type": "stream",
     "text": [
      "<class 'pandas.core.frame.DataFrame'>\n",
      "RangeIndex: 254 entries, 0 to 253\n",
      "Data columns (total 7 columns):\n",
      "Date                254 non-null object\n",
      "District            254 non-null object\n",
      "PersonType          254 non-null object\n",
      "NumberOfPatients    254 non-null int64\n",
      "PresentStatus       254 non-null object\n",
      "Remarks             254 non-null object\n",
      "DischargedDate      192 non-null object\n",
      "dtypes: int64(1), object(6)\n",
      "memory usage: 14.0+ KB\n"
     ]
    }
   ],
   "source": [
    "dta.info()"
   ]
  },
  {
   "cell_type": "code",
   "execution_count": 153,
   "metadata": {},
   "outputs": [
    {
     "name": "stdout",
     "output_type": "stream",
     "text": [
      "<class 'pandas.core.frame.DataFrame'>\n",
      "DatetimeIndex: 254 entries, 2020-03-09 to 2020-04-20\n",
      "Data columns (total 6 columns):\n",
      "District            254 non-null object\n",
      "PersonType          254 non-null object\n",
      "NumberOfPatients    254 non-null int64\n",
      "PresentStatus       254 non-null object\n",
      "Remarks             254 non-null object\n",
      "DischargedDate      192 non-null datetime64[ns]\n",
      "dtypes: datetime64[ns](1), int64(1), object(4)\n",
      "memory usage: 13.9+ KB\n",
      "None\n"
     ]
    }
   ],
   "source": [
    "# 'Date' column is in object format.Change that into datetime.\n",
    "dta['Date'] = pd.to_datetime(dta['Date'], dayfirst=True) #\n",
    "\n",
    "\n",
    "# 'DischargedDate' column is in object format.Change that into datetime.\n",
    "dta['DischargedDate'] = pd.to_datetime(dta['DischargedDate'], dayfirst=True) #\n",
    "\n",
    "\n",
    "# setting index to 'Date'\n",
    "dta.set_index('Date',inplace=True)\n",
    "\n",
    "#\n",
    "print(dta.info())"
   ]
  },
  {
   "cell_type": "code",
   "execution_count": 154,
   "metadata": {},
   "outputs": [
    {
     "data": {
      "text/html": [
       "<div>\n",
       "<style scoped>\n",
       "    .dataframe tbody tr th:only-of-type {\n",
       "        vertical-align: middle;\n",
       "    }\n",
       "\n",
       "    .dataframe tbody tr th {\n",
       "        vertical-align: top;\n",
       "    }\n",
       "\n",
       "    .dataframe thead th {\n",
       "        text-align: right;\n",
       "    }\n",
       "</style>\n",
       "<table border=\"1\" class=\"dataframe\">\n",
       "  <thead>\n",
       "    <tr style=\"text-align: right;\">\n",
       "      <th></th>\n",
       "      <th>District</th>\n",
       "      <th>PersonType</th>\n",
       "      <th>NumberOfPatients</th>\n",
       "      <th>PresentStatus</th>\n",
       "      <th>Remarks</th>\n",
       "      <th>DischargedDate</th>\n",
       "    </tr>\n",
       "    <tr>\n",
       "      <th>Date</th>\n",
       "      <th></th>\n",
       "      <th></th>\n",
       "      <th></th>\n",
       "      <th></th>\n",
       "      <th></th>\n",
       "      <th></th>\n",
       "    </tr>\n",
       "  </thead>\n",
       "  <tbody>\n",
       "    <tr>\n",
       "      <th>2020-03-09</th>\n",
       "      <td>Thrissur</td>\n",
       "      <td>native</td>\n",
       "      <td>1</td>\n",
       "      <td>negative</td>\n",
       "      <td>discharged</td>\n",
       "      <td>2020-03-17</td>\n",
       "    </tr>\n",
       "    <tr>\n",
       "      <th>2020-03-09</th>\n",
       "      <td>Alappuzha</td>\n",
       "      <td>native</td>\n",
       "      <td>1</td>\n",
       "      <td>negative</td>\n",
       "      <td>discharged</td>\n",
       "      <td>2020-03-17</td>\n",
       "    </tr>\n",
       "    <tr>\n",
       "      <th>2020-03-09</th>\n",
       "      <td>Kasargod</td>\n",
       "      <td>native</td>\n",
       "      <td>1</td>\n",
       "      <td>negative</td>\n",
       "      <td>discharged</td>\n",
       "      <td>2020-04-17</td>\n",
       "    </tr>\n",
       "    <tr>\n",
       "      <th>2020-03-09</th>\n",
       "      <td>Pathanamthitta</td>\n",
       "      <td>native</td>\n",
       "      <td>5</td>\n",
       "      <td>negative</td>\n",
       "      <td>discharged</td>\n",
       "      <td>2020-04-01</td>\n",
       "    </tr>\n",
       "    <tr>\n",
       "      <th>2020-03-09</th>\n",
       "      <td>Ernakulam</td>\n",
       "      <td>native</td>\n",
       "      <td>1</td>\n",
       "      <td>negative</td>\n",
       "      <td>discharged</td>\n",
       "      <td>2020-03-27</td>\n",
       "    </tr>\n",
       "  </tbody>\n",
       "</table>\n",
       "</div>"
      ],
      "text/plain": [
       "                  District PersonType  NumberOfPatients PresentStatus  \\\n",
       "Date                                                                    \n",
       "2020-03-09        Thrissur     native                 1      negative   \n",
       "2020-03-09      Alappuzha      native                 1      negative   \n",
       "2020-03-09        Kasargod     native                 1      negative   \n",
       "2020-03-09  Pathanamthitta     native                 5      negative   \n",
       "2020-03-09       Ernakulam     native                 1      negative   \n",
       "\n",
       "               Remarks DischargedDate  \n",
       "Date                                   \n",
       "2020-03-09  discharged     2020-03-17  \n",
       "2020-03-09  discharged     2020-03-17  \n",
       "2020-03-09  discharged     2020-04-17  \n",
       "2020-03-09  discharged     2020-04-01  \n",
       "2020-03-09  discharged     2020-03-27  "
      ]
     },
     "execution_count": 154,
     "metadata": {},
     "output_type": "execute_result"
    }
   ],
   "source": [
    "dta.head(5)"
   ]
  },
  {
   "cell_type": "code",
   "execution_count": 155,
   "metadata": {},
   "outputs": [],
   "source": [
    "# details of discharged patients taken separately.\n",
    "dscharg = dta[(dta.Remarks =='discharged')]"
   ]
  },
  {
   "cell_type": "code",
   "execution_count": 156,
   "metadata": {},
   "outputs": [
    {
     "name": "stdout",
     "output_type": "stream",
     "text": [
      "Average recovery period =  15.647260273972602 days\n"
     ]
    },
    {
     "name": "stderr",
     "output_type": "stream",
     "text": [
      "/home/sandeep/anaconda3/lib/python3.7/site-packages/ipykernel_launcher.py:12: SettingWithCopyWarning: \n",
      "A value is trying to be set on a copy of a slice from a DataFrame.\n",
      "Try using .loc[row_indexer,col_indexer] = value instead\n",
      "\n",
      "See the caveats in the documentation: http://pandas.pydata.org/pandas-docs/stable/indexing.html#indexing-view-versus-copy\n",
      "  if sys.path[0] == '':\n"
     ]
    }
   ],
   "source": [
    "# function to find average recovery time.\n",
    "\n",
    "def avgRecovTime():\n",
    "    # Create a null list for recovery period of patients.\n",
    "    recoveryTime =  []\n",
    "    \n",
    "    for i in range(0,len(dscharg)):\n",
    "        t = dscharg.DischargedDate[i] - dscharg.index[i]\n",
    "        recoveryTime.append(t.days)   # Taking only 'days' portion of the timestamp.\n",
    "    \n",
    "    # Creating new column 'recoveryTime' in dscharg dataframe.\n",
    "    dscharg['recoveryTime'] = recoveryTime      \n",
    "    \n",
    "    # Finding average recovery period.\n",
    "    sop = 0\n",
    "    for i in range(0,len(dscharg)):\n",
    "        sop = sop + (dscharg.NumberOfPatients[i] * dscharg.recoveryTime[i])\n",
    "    \n",
    "    avg = sop/(dscharg.NumberOfPatients.sum())\n",
    "    return(print('Average recovery period = ', avg, 'days'))\n",
    "\n",
    "avgRecovTime()"
   ]
  },
  {
   "cell_type": "code",
   "execution_count": null,
   "metadata": {},
   "outputs": [],
   "source": []
  },
  {
   "cell_type": "code",
   "execution_count": null,
   "metadata": {},
   "outputs": [],
   "source": []
  }
 ],
 "metadata": {
  "kernelspec": {
   "display_name": "Python 3",
   "language": "python",
   "name": "python3"
  },
  "language_info": {
   "codemirror_mode": {
    "name": "ipython",
    "version": 3
   },
   "file_extension": ".py",
   "mimetype": "text/x-python",
   "name": "python",
   "nbconvert_exporter": "python",
   "pygments_lexer": "ipython3",
   "version": "3.7.3"
  }
 },
 "nbformat": 4,
 "nbformat_minor": 2
}
